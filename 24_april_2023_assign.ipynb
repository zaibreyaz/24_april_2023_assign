{
 "cells": [
  {
   "cell_type": "code",
   "execution_count": null,
   "id": "e8acdca7-013c-4324-937d-21aa76eda169",
   "metadata": {},
   "outputs": [],
   "source": [
    "\"\"\"Q1. What is a projection and how is it used in PCA?\n",
    "\n",
    "    Ans: A projection in PCA (Principal Component Analysis) is a way of transforming high-dimensional data onto a lower-dimensional\n",
    "         space. It is achieved by identifying the principal components that capture the most variance in the data and projecting \n",
    "         the data points onto those components to obtain a reduced representation.\n",
    "\"\"\""
   ]
  },
  {
   "cell_type": "code",
   "execution_count": null,
   "id": "cbfb02f1-d78e-48db-a351-249698dfc29f",
   "metadata": {},
   "outputs": [],
   "source": [
    "\"\"\"Q2. How does the optimization problem in PCA work, and what is it trying to achieve?\n",
    "\n",
    "    Ans: The optimization problem in PCA aims to find the best set of orthogonal axes (principal components) that maximize the \n",
    "         variance captured by projecting the data onto those axes. It seeks to achieve the most compact representation of the data \n",
    "         in a lower-dimensional space.\n",
    "\"\"\""
   ]
  },
  {
   "cell_type": "code",
   "execution_count": null,
   "id": "4d5e0da6-395d-4dc1-939c-37dbbfc16916",
   "metadata": {},
   "outputs": [],
   "source": [
    "\"\"\"Q3. What is the relationship between covariance matrices and PCA?\n",
    "\n",
    "    Ans: PCA uses the covariance matrix to calculate the eigenvectors and eigenvalues, which in turn determine the \n",
    "         principal components and the amount of variance explained by each component.\n",
    "\"\"\""
   ]
  },
  {
   "cell_type": "code",
   "execution_count": null,
   "id": "4658d99a-f88f-43e4-93db-256e72894367",
   "metadata": {},
   "outputs": [],
   "source": [
    "\"\"\"Q4. How does the choice of number of principal components impact the performance of PCA?\n",
    "\n",
    "    Ans: The choice of the number of principal components in PCA impacts the trade-off between dimensionality reduction and \n",
    "         preserving information. Selecting fewer components may lead to loss of information but faster computation, while \n",
    "         selecting more components may preserve more information but require more computational resources.\n",
    "\"\"\""
   ]
  },
  {
   "cell_type": "code",
   "execution_count": null,
   "id": "76cdf182-9653-4fe6-bd04-8c2a97995538",
   "metadata": {},
   "outputs": [],
   "source": [
    "\"\"\"Q5. How can PCA be used in feature selection, and what are the benefits of using it for this purpose?\n",
    "\n",
    "    Ans: PCA can be used in feature selection by selecting the top principal components as representative features. \n",
    "         Benefits include reducing dimensionality, eliminating irrelevant features, and preserving the most important information \n",
    "         for improved model performance.\n",
    "\"\"\""
   ]
  },
  {
   "cell_type": "code",
   "execution_count": null,
   "id": "0442be47-46d2-4361-8667-ad15ec6f5fb7",
   "metadata": {},
   "outputs": [],
   "source": [
    "\"\"\"Q6. What are some common applications of PCA in data science and machine learning?\n",
    "\n",
    "    Ans: Some common applications of PCA in data science and machine learning include dimensionality reduction, image and \n",
    "         signal processing, data visualization, anomaly detection, and feature extraction for improving model performance.\n",
    "\"\"\""
   ]
  },
  {
   "cell_type": "code",
   "execution_count": null,
   "id": "c642928e-2912-4905-a6e5-c612f5d3d494",
   "metadata": {},
   "outputs": [],
   "source": [
    "\"\"\"Q7. What is the relationship between spread and variance in PCA?\n",
    "\n",
    "    Ans: In PCA, Variance represents the spread or dispersion of data along a particular axis or principal component. \n",
    "         Higher variance indicates a greater spread of data points along that component, capturing more information about \n",
    "         the data's variability.\n",
    "\"\"\""
   ]
  },
  {
   "cell_type": "code",
   "execution_count": null,
   "id": "5fd266b1-0f2e-4162-acef-edf4d1afc384",
   "metadata": {},
   "outputs": [],
   "source": [
    "\"\"\"Q8. How does PCA use the spread and variance of the data to identify principal components?\n",
    "\n",
    "    Ans: PCA uses the spread and variance of the data to identify principal components by seeking the directions in which the data \n",
    "         has the highest variance. These directions correspond to the axes along which the data is most spread out, capturing the \n",
    "         most significant patterns and variability in the data.\n",
    "\"\"\""
   ]
  },
  {
   "cell_type": "code",
   "execution_count": null,
   "id": "eb2d5d6c-5286-4055-9dfd-ff3efd9a00db",
   "metadata": {},
   "outputs": [],
   "source": [
    "\"\"\"Q9. How does PCA handle data with high variance in some dimensions but low variance in others?\n",
    "\n",
    "    Ans: PCA handles data with high variance in some dimensions and low variance in others by prioritizing the dimensions with \n",
    "         higher variance. It identifies the principal components based on the directions of maximum variance.\n",
    "\"\"\""
   ]
  }
 ],
 "metadata": {
  "kernelspec": {
   "display_name": "Python 3 (ipykernel)",
   "language": "python",
   "name": "python3"
  },
  "language_info": {
   "codemirror_mode": {
    "name": "ipython",
    "version": 3
   },
   "file_extension": ".py",
   "mimetype": "text/x-python",
   "name": "python",
   "nbconvert_exporter": "python",
   "pygments_lexer": "ipython3",
   "version": "3.10.8"
  }
 },
 "nbformat": 4,
 "nbformat_minor": 5
}
